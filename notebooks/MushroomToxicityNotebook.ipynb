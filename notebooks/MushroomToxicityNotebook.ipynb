{
 "cells": [
  {
   "cell_type": "markdown",
   "id": "975577aa",
   "metadata": {},
   "source": [
    "# Mushroom Toxicity Classification Notebook\n",
    "\n",
    "In this notebook, I'll be developing the model that be used (when given certain structured features) to classify whether or not a mushroom is toxic or not.\n",
    "\n",
    "I'll be using Scikit-Learn, Matplotlib, NumPy, and Pandas for the most part."
   ]
  },
  {
   "cell_type": "markdown",
   "id": "37f9018b",
   "metadata": {},
   "source": [
    "As with other projects, I'll be using the following approach:\n",
    "\n",
    "1. Problem Definition\n",
    "2. Exploratory Data Analysis\n",
    "3. Basic Modelling\n",
    "4. Evaluation\n",
    "5. Experimentation\n",
    "6. Final Conclusions & Model Exportation"
   ]
  },
  {
   "cell_type": "markdown",
   "id": "0d1cbdac",
   "metadata": {},
   "source": [
    "## Problem Definition\n",
    "\n",
    "In a single statement of need:\n",
    "\n",
    "> Given physical features of a mushroom, can we predict if that mushroom is toxic or not?\n",
    "\n",
    "The data that will be used for this project is (Mushroom Classification)[https://www.kaggle.com/datasets/uciml/mushroom-classification] from Kaggle. The data's source is from the UCI Machine Learning respository — originally donated to UCI ML on April 27, 1987.\n",
    "\n",
    "Normally, I'd include some sort of evaluation metric, such as \"I will pursue this project if the proof of concept gets an initial accuracy of about 90%\" or something along those lines, but I'm planning on pursuing this project either way so that's unnecessary. However:\n",
    "\n",
    "> This model will have minimum of 50% accuracy.\n",
    "\n",
    "This is calculated by thinking of a uniform chance model (poisonous or edible). Accuracy metric calculated by $ 0.5 * 0.48 + 0.5 * 0.52 = 0.5 $. On second look, this math looks kind of funky, so give me a day or so to remember proper statistics :)"
   ]
  },
  {
   "cell_type": "markdown",
   "id": "277f01c5",
   "metadata": {},
   "source": [
    "### Features\n",
    "\n",
    "All here so I don't have to jump back and forth between the website and this notebook.\n",
    "\n",
    "\n",
    "**Attribute Information**\n",
    "\n",
    "cap-shape<br>* bell=b<br>* conical=c<br>* convex=x<br>* flat=f<br>*  knobbed=k<br>* sunken=s\n",
    "\n",
    "cap-surface<br>* fibrous=f<br>* grooves=g<br>* scaly=y<br>* smooth=s\n",
    "\n",
    "cap-color<br>* brown=n<br>* buff=b<br>* cinnamon=c<br>* gray=g<br>* green=r<br>* pink=p<br>* purple=u<br>* red=e<br>* white=w<br>* yellow=y\n",
    "\n",
    "bruises<br>* bruises=t<br>* no=f\n",
    "\n",
    "odor<br>* almond=a<br>* anise=l<br>* creosote=c<br>* fishy=y<br>* foul=f<br>* musty=m<br>* none=n<br>* pungent=p<br>* spicy=s\n",
    "\n",
    "gill-attachment<br>* attached=a<br>* descending=d<br>* free=f<br>* notched=n\n",
    "\n",
    "gill-spacing<br>* close=c<br>* crowded=w<br>* distant=d\n",
    "\n",
    "gill-size<br>* broad=b<br>* narrow=n\n",
    "\n",
    "gill-color<br>* black=k<br>* brown=n<br>* buff=b<br>* chocolate=h<br>* gray=g<br>*  green=r<br>* orange=o<br>* pink=p<br>* purple=u<br>* red=e<br>* white=w<br>* yellow=y\n",
    "\n",
    "stalk-shape<br>* enlarging=e<br>* tapering=t\n",
    "\n",
    "stalk-root<br>* bulbous=b<br>* club=c<br>* cup=u<br>* equal=e<br>* rhizomorphs=z<br>* rooted=r<br>* missing=?\n",
    "\n",
    "stalk-surface-above-ring<br>* fibrous=f<br>* scaly=y<br>* silky=k<br>* smooth=s\n",
    "\n",
    "stalk-surface-below-ring<br>* fibrous=f<br>* scaly=y<br>* silky=k<br>* smooth=s\n",
    "\n",
    "stalk-color-above-ring<br>* brown=n<br>* buff=b<br>* cinnamon=c<br>* gray=g<br>* orange=o<br>* pink=p<br>* red=e<br>* white=w<br>* yellow=y\n",
    "\n",
    "stalk-color-below-ring<br>* brown=n<br>* buff=b<br>* cinnamon=c<br>* gray=g<br>* orange=o<br>* pink=p<br>* red=e<br>* white=w<br>* yellow=y\n",
    "\n",
    "veil-type<br>* partial=p<br>* universal=u\n",
    "\n",
    "veil-color<br>* brown=n<br>* orange=o<br>* white=w<br>* yellow=y\n",
    "\n",
    "ring-number<br>* none=n<br>* one=o<br>* two=t\n",
    "\n",
    "ring-type<br>* cobwebby=c<br>* evanescent=e<br>* flaring=f<br>* large=l<br>* none=n<br>* pendant=p<br>* sheathing=s<br>* zone=z\n",
    "\n",
    "spore-print-color<br>* black=k<br>* brown=n<br>* buff=b<br>* chocolate=h<br>* green=r<br>* orange=o<br>* purple=u<br>* white=w<br>* yellow=y\n",
    "\n",
    "population<br>* abundant=a<br>* clustered=c<br>* numerous=n<br>* scattered=s<br>* several=v<br>* solitary=y\n",
    "\n",
    "habitat<br>* grasses=g<br>* leaves=l<br>* meadows=m<br>* paths=p<br>* urban=u<br>* waste=w<br>* woods=d\n",
    "\n",
    "**classes**\n",
    "\n",
    "* edible=e\n",
    "* poisonous=p\n"
   ]
  },
  {
   "cell_type": "markdown",
   "id": "4257f33e",
   "metadata": {},
   "source": [
    "### Exploring the Problem Domain\n",
    "\n",
    "Mushrooms are divided (by class) into either *edible* or *poisonous*. Any mushrooms of inedibility (albeit not poisonous) or unknown toxicity has been sorted into the poisonous class.\n",
    "\n",
    "#### By Features\n",
    "\n",
    "**Habitat**\n",
    "\n",
    "Very self-explanatory. Where the mushroom's habitat was at the time of data generation.\n",
    "\n",
    "**Population**\n",
    "\n",
    "How many mushrooms of this type are present in the immediate area?\n",
    "\n",
    "**Ring Number/Type**\n",
    "\n",
    "Refers to the annulus of the mushroom, or the ring-like or collar-like thing that some mushrooms possess on their stem/stipe. They are leftovers of the partial veil, which forms after it ruptures to throw out its spores. Number refers to the number of these rings, and type to how they look.\n",
    "\n",
    "**Spore Print Colour**\n",
    "\n",
    "By imprinting the gills of a mushroom onto a light (or dark) piece of paper, you can see the colour of its spores. That is what this feature refers to.\n",
    "\n",
    "**Veil Type/Colour**\n",
    "\n",
    "A veil is the thin membrane that covers the cap and stalk of an immature mushroom. Most mushrooms form a partial veil that ruptures once the fruiting body has matured. Type refers to universal or partial veil. Colour is self-expanatory.\n",
    "\n",
    "**Stalk**\n",
    "\n",
    "\n",
    "\n"
   ]
  },
  {
   "cell_type": "code",
   "execution_count": null,
   "id": "57971b97",
   "metadata": {},
   "outputs": [],
   "source": []
  }
 ],
 "metadata": {
  "kernelspec": {
   "display_name": "Python 3 (ipykernel)",
   "language": "python",
   "name": "python3"
  },
  "language_info": {
   "codemirror_mode": {
    "name": "ipython",
    "version": 3
   },
   "file_extension": ".py",
   "mimetype": "text/x-python",
   "name": "python",
   "nbconvert_exporter": "python",
   "pygments_lexer": "ipython3",
   "version": "3.9.12"
  }
 },
 "nbformat": 4,
 "nbformat_minor": 5
}
